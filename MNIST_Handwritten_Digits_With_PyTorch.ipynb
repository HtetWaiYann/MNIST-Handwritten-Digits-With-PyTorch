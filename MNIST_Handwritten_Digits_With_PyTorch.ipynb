{
 "cells": [
  {
   "cell_type": "markdown",
   "metadata": {},
   "source": [
    "# Introduction\n",
    "\n",
    "In this project, you will build a neural network of your own design to evaluate the MNIST dataset.\n",
    "\n",
    "Some of the benchmark results on MNIST include can be found [on Yann LeCun's page](http://yann.lecun.com/exdb/mnist/) and include:\n",
    "\n",
    "88% [Lecun et al., 1998](http://yann.lecun.com/exdb/publis/pdf/lecun-98.pdf)\n",
    "95.3% [Lecun et al., 1998](http://yann.lecun.com/exdb/publis/pdf/lecun-98.pdf)\n",
    "99.65% [Ciresan et al., 2011](http://people.idsia.ch/~juergen/ijcai2011.pdf)\n",
    "\n",
    "MNIST is a great dataset for sanity checking your models, since the accuracy levels achieved by large convolutional neural networks and small linear models are both quite high. This makes it important to be familiar with the data.\n",
    "\n",
    "## Imports"
   ]
  },
  {
   "cell_type": "code",
   "execution_count": 1,
   "metadata": {},
   "outputs": [],
   "source": [
    "## This cell contains the essential imports you will need – DO NOT CHANGE THE CONTENTS! ##\n",
    "import torch\n",
    "import torch.nn as nn\n",
    "import torch.nn.functional as F\n",
    "import torch.optim as optim\n",
    "import torchvision.transforms as transforms\n",
    "from torch.utils.data import DataLoader\n",
    "from torchvision import datasets\n",
    "import matplotlib.pyplot as plt\n",
    "import numpy as np\n",
    "# from ipywidgets import FloatProgress"
   ]
  },
  {
   "cell_type": "code",
   "execution_count": 5,
   "metadata": {},
   "outputs": [
    {
     "name": "stdout",
     "output_type": "stream",
     "text": [
      "Defaulting to user installation because normal site-packages is not writeable\n",
      "Collecting ipywidgets\n",
      "  Downloading ipywidgets-8.0.6-py3-none-any.whl (138 kB)\n",
      "\u001b[K     |████████████████████████████████| 138 kB 5.4 MB/s eta 0:00:01\n",
      "\u001b[?25hCollecting widgetsnbextension~=4.0.7\n",
      "  Downloading widgetsnbextension-4.0.7-py3-none-any.whl (2.1 MB)\n",
      "\u001b[K     |████████████████████████████████| 2.1 MB 39.4 MB/s eta 0:00:01\n",
      "\u001b[?25hRequirement already satisfied: traitlets>=4.3.1 in /opt/conda/lib/python3.7/site-packages (from ipywidgets) (4.3.3)\n",
      "Requirement already satisfied: ipykernel>=4.5.1 in /opt/conda/lib/python3.7/site-packages (from ipywidgets) (5.1.4)\n",
      "Collecting jupyterlab-widgets~=3.0.7\n",
      "  Downloading jupyterlab_widgets-3.0.7-py3-none-any.whl (198 kB)\n",
      "\u001b[K     |████████████████████████████████| 198 kB 42.5 MB/s eta 0:00:01\n",
      "\u001b[?25hRequirement already satisfied: ipython>=6.1.0 in /opt/conda/lib/python3.7/site-packages (from ipywidgets) (7.13.0)\n",
      "Requirement already satisfied: decorator in /opt/conda/lib/python3.7/site-packages (from traitlets>=4.3.1->ipywidgets) (4.4.2)\n",
      "Requirement already satisfied: six in /opt/conda/lib/python3.7/site-packages (from traitlets>=4.3.1->ipywidgets) (1.16.0)\n",
      "Requirement already satisfied: ipython-genutils in /opt/conda/lib/python3.7/site-packages (from traitlets>=4.3.1->ipywidgets) (0.2.0)\n",
      "Requirement already satisfied: tornado>=4.2 in /opt/conda/lib/python3.7/site-packages (from ipykernel>=4.5.1->ipywidgets) (5.1.1)\n",
      "Requirement already satisfied: jupyter-client in /opt/conda/lib/python3.7/site-packages (from ipykernel>=4.5.1->ipywidgets) (6.0.0)\n",
      "Requirement already satisfied: pickleshare in /opt/conda/lib/python3.7/site-packages (from ipython>=6.1.0->ipywidgets) (0.7.5)\n",
      "Requirement already satisfied: backcall in /opt/conda/lib/python3.7/site-packages (from ipython>=6.1.0->ipywidgets) (0.1.0)\n",
      "Requirement already satisfied: pexpect; sys_platform != \"win32\" in /opt/conda/lib/python3.7/site-packages (from ipython>=6.1.0->ipywidgets) (4.8.0)\n",
      "Requirement already satisfied: setuptools>=18.5 in /opt/conda/lib/python3.7/site-packages (from ipython>=6.1.0->ipywidgets) (45.2.0.post20200209)\n",
      "Requirement already satisfied: jedi>=0.10 in /opt/conda/lib/python3.7/site-packages (from ipython>=6.1.0->ipywidgets) (0.16.0)\n",
      "Requirement already satisfied: prompt-toolkit!=3.0.0,!=3.0.1,<3.1.0,>=2.0.0 in /opt/conda/lib/python3.7/site-packages (from ipython>=6.1.0->ipywidgets) (3.0.3)\n",
      "Requirement already satisfied: pygments in /opt/conda/lib/python3.7/site-packages (from ipython>=6.1.0->ipywidgets) (2.5.2)\n",
      "Requirement already satisfied: jupyter-core>=4.6.0 in /opt/conda/lib/python3.7/site-packages (from jupyter-client->ipykernel>=4.5.1->ipywidgets) (4.6.3)\n",
      "Requirement already satisfied: pyzmq>=13 in /opt/conda/lib/python3.7/site-packages (from jupyter-client->ipykernel>=4.5.1->ipywidgets) (19.0.0)\n",
      "Requirement already satisfied: python-dateutil>=2.1 in /opt/conda/lib/python3.7/site-packages (from jupyter-client->ipykernel>=4.5.1->ipywidgets) (2.8.1)\n",
      "Requirement already satisfied: ptyprocess>=0.5 in /opt/conda/lib/python3.7/site-packages (from pexpect; sys_platform != \"win32\"->ipython>=6.1.0->ipywidgets) (0.6.0)\n",
      "Requirement already satisfied: parso>=0.5.2 in /opt/conda/lib/python3.7/site-packages (from jedi>=0.10->ipython>=6.1.0->ipywidgets) (0.6.1)\n",
      "Requirement already satisfied: wcwidth in /opt/conda/lib/python3.7/site-packages (from prompt-toolkit!=3.0.0,!=3.0.1,<3.1.0,>=2.0.0->ipython>=6.1.0->ipywidgets) (0.1.8)\n",
      "Installing collected packages: widgetsnbextension, jupyterlab-widgets, ipywidgets\n",
      "Successfully installed ipywidgets-8.0.6 jupyterlab-widgets-3.0.7 widgetsnbextension-4.0.7\n",
      "Enabling notebook extension jupyter-js-widgets/extension...\n",
      "      - Validating: \u001b[32mOK\u001b[0m\n"
     ]
    }
   ],
   "source": [
    "!pip install ipywidgets\n",
    "!jupyter nbextension enable --py widgetsnbextension\n"
   ]
  },
  {
   "cell_type": "code",
   "execution_count": 2,
   "metadata": {},
   "outputs": [
    {
     "data": {
      "text/plain": [
       "device(type='cpu')"
      ]
     },
     "execution_count": 2,
     "metadata": {},
     "output_type": "execute_result"
    }
   ],
   "source": [
    "device = torch.device('cuda' if torch.cuda.is_available() else 'cpu')\n",
    "device\n",
    "\n",
    "# torch.cuda.is_available()"
   ]
  },
  {
   "cell_type": "markdown",
   "metadata": {},
   "source": [
    "## Load the Dataset\n",
    "\n",
    "Specify your transforms as a list if you intend to .\n",
    "The transforms module is already loaded as `transforms`.\n",
    "\n",
    "MNIST is fortunately included in the torchvision module.\n",
    "Then, you can create your dataset using the `MNIST` object from `torchvision.datasets` ([the documentation is available here](https://pytorch.org/vision/stable/datasets.html#mnist)).\n",
    "Make sure to specify `download=True`! \n",
    "\n",
    "Once your dataset is created, you'll also need to define a `DataLoader` from the `torch.utils.data` module for both the train and the test set."
   ]
  },
  {
   "cell_type": "code",
   "execution_count": 3,
   "metadata": {},
   "outputs": [
    {
     "name": "stderr",
     "output_type": "stream",
     "text": [
      "/opt/conda/lib/python3.7/site-packages/torchvision/datasets/mnist.py:498: UserWarning: The given NumPy array is not writable, and PyTorch does not support non-writable tensors. This means writing to this tensor will result in undefined behavior. You may want to copy the array to protect its data or make it writable before converting it to a tensor. This type of warning will be suppressed for the rest of this program. (Triggered internally at  ../torch/csrc/utils/tensor_numpy.cpp:178.)\n",
      "  return torch.from_numpy(parsed.astype(m[2], copy=False)).view(*s)\n"
     ]
    }
   ],
   "source": [
    "# Define transforms\n",
    "transform = transforms.Compose([transforms.RandomRotation(30),\n",
    "                                transforms.RandomHorizontalFlip(),\n",
    "                                transforms.ToTensor(), \n",
    "                                transforms.Normalize((0.5,), (0.5,)),])\n",
    "\n",
    "view_transform = transforms.Compose([transforms.RandomRotation(30),\n",
    "                                transforms.RandomHorizontalFlip(), \n",
    "                                transforms.ToTensor()])\n",
    "\n",
    "# Create view training set and define training dataloader\n",
    "view_train_data=datasets.MNIST('data',train=True,download=True,transform=view_transform)\n",
    "view_train_loader = DataLoader(view_train_data, batch_size=32)\n",
    "\n",
    "# Create training set and define training dataloader\n",
    "train_data=datasets.MNIST('data',train=True,download=True,transform=transform)\n",
    "train_loader = DataLoader(train_data, batch_size=250, shuffle=True)\n",
    "\n",
    "validation_data=datasets.MNIST('data',train=True,download=True,transform=transform)\n",
    "validation_loader = DataLoader(validation_data, batch_size=32)\n",
    "\n",
    "# Create test set and define test dataloader\n",
    "test_data=datasets.MNIST('data',train=False,download=True,transform=transform)\n",
    "test_loader = DataLoader(test_data, batch_size=32)"
   ]
  },
  {
   "cell_type": "markdown",
   "metadata": {},
   "source": [
    "## Justify your preprocessing\n",
    "\n",
    "In your own words, why did you choose the transforms you chose? If you didn't use any preprocessing steps, why not?"
   ]
  },
  {
   "cell_type": "markdown",
   "metadata": {},
   "source": [
    "I did data augmentation to make the model more robust to different writing styles and orientation. I also did normalization to make the pixel values to have consistant scale. Transforming into Tensor is unavoidable since neural networks in PyTorch uses Tensor.\n",
    "While loading the training data, the data is shuffled to prevent bias occured by the ordering of the data. "
   ]
  },
  {
   "cell_type": "markdown",
   "metadata": {},
   "source": [
    "## Explore the Dataset\n",
    "Using matplotlib, numpy, and torch, explore the dimensions of your data.\n",
    "\n",
    "You can view images using the `show5` function defined below – it takes a data loader as an argument.\n",
    "Remember that normalized images will look really weird to you! You may want to try changing your transforms to view images.\n",
    "Typically using no transforms other than `toTensor()` works well for viewing – but not as well for training your network.\n",
    "If `show5` doesn't work, go back and check your code for creating your data loaders and your training/test sets."
   ]
  },
  {
   "cell_type": "code",
   "execution_count": 4,
   "metadata": {},
   "outputs": [
    {
     "name": "stdout",
     "output_type": "stream",
     "text": [
      "train_loader\n",
      "240\n",
      "60000\n",
      "<class 'torch.Tensor'>\n",
      "torch.Size([250, 1, 28, 28])\n",
      "torch.Size([250])\n",
      "test_loader\n",
      "313\n",
      "<class 'torch.Tensor'>\n",
      "torch.Size([32, 1, 28, 28])\n",
      "torch.Size([32])\n"
     ]
    }
   ],
   "source": [
    "dataiter = iter(train_loader)\n",
    "images, labels = dataiter.next()\n",
    "print(\"train_loader\")\n",
    "print(len(train_loader))\n",
    "print(len(train_loader.dataset))\n",
    "print(type(images))\n",
    "print(images.shape)\n",
    "print(labels.shape)\n",
    "\n",
    "\n",
    "\n",
    "dataiter = iter(test_loader)\n",
    "images, labels = dataiter.next()\n",
    "print(\"test_loader\")\n",
    "print(len(test_loader))\n",
    "print(type(images))\n",
    "print(images.shape)\n",
    "print(labels.shape)"
   ]
  },
  {
   "cell_type": "code",
   "execution_count": 5,
   "metadata": {},
   "outputs": [],
   "source": [
    "## This cell contains a function for showing 5 images from a dataloader – DO NOT CHANGE THE CONTENTS! ##\n",
    "def show5(img_loader):\n",
    "    dataiter = iter(img_loader)\n",
    "    \n",
    "    batch = next(dataiter)\n",
    "    labels = batch[1][0:5]\n",
    "    images = batch[0][0:5]\n",
    "    for i in range(5):\n",
    "        print(int(labels[i].detach()))\n",
    "    \n",
    "        image = images[i].numpy()\n",
    "        plt.imshow(image.T.squeeze().T)\n",
    "        plt.show()"
   ]
  },
  {
   "cell_type": "code",
   "execution_count": 7,
   "metadata": {},
   "outputs": [
    {
     "name": "stdout",
     "output_type": "stream",
     "text": [
      "5\n"
     ]
    },
    {
     "data": {
      "image/png": "[encoded data removed]",
      "text/plain": [
       "<Figure size 432x288 with 1 Axes>"
      ]
     },
     "metadata": {
      "needs_background": "light"
     },
     "output_type": "display_data"
    },
    {
     "name": "stdout",
     "output_type": "stream",
     "text": [
      "0\n"
     ]
    },
    {
     "data": {
      "image/png": "[encoded data removed]",
      "text/plain": [
       "<Figure size 432x288 with 1 Axes>"
      ]
     },
     "metadata": {
      "needs_background": "light"
     },
     "output_type": "display_data"
    },
    {
     "name": "stdout",
     "output_type": "stream",
     "text": [
      "4\n"
     ]
    },
    {
     "data": {
      "image/png": "[encoded data removed]",
      "text/plain": [
       "<Figure size 432x288 with 1 Axes>"
      ]
     },
     "metadata": {
      "needs_background": "light"
     },
     "output_type": "display_data"
    },
    {
     "name": "stdout",
     "output_type": "stream",
     "text": [
      "1\n"
     ]
    },
    {
     "data": {
      "image/png": "[encoded data removed]",
      "text/plain": [
       "<Figure size 432x288 with 1 Axes>"
      ]
     },
     "metadata": {
      "needs_background": "light"
     },
     "output_type": "display_data"
    },
    {
     "name": "stdout",
     "output_type": "stream",
     "text": [
      "9\n"
     ]
    },
    {
     "data": {
      "image/png": "[encoded data removed]",
      "text/plain": [
       "<Figure size 432x288 with 1 Axes>"
      ]
     },
     "metadata": {
      "needs_background": "light"
     },
     "output_type": "display_data"
    }
   ],
   "source": [
    "# Explore data\n",
    "# Dataloader without normalization\n",
    "show5(view_train_loader)"
   ]
  },
  {
   "cell_type": "code",
   "execution_count": 8,
   "metadata": {},
   "outputs": [
    {
     "name": "stdout",
     "output_type": "stream",
     "text": [
      "0\n"
     ]
    },
    {
     "data": {
      "image/png": "[encoded data removed]",
      "text/plain": [
       "<Figure size 432x288 with 1 Axes>"
      ]
     },
     "metadata": {
      "needs_background": "light"
     },
     "output_type": "display_data"
    },
    {
     "name": "stdout",
     "output_type": "stream",
     "text": [
      "8\n"
     ]
    },
    {
     "data": {
      "image/png": "[encoded data removed]",
      "text/plain": [
       "<Figure size 432x288 with 1 Axes>"
      ]
     },
     "metadata": {
      "needs_background": "light"
     },
     "output_type": "display_data"
    },
    {
     "name": "stdout",
     "output_type": "stream",
     "text": [
      "0\n"
     ]
    },
    {
     "data": {
      "image/png": "[encoded data removed]",
      "text/plain": [
       "<Figure size 432x288 with 1 Axes>"
      ]
     },
     "metadata": {
      "needs_background": "light"
     },
     "output_type": "display_data"
    },
    {
     "name": "stdout",
     "output_type": "stream",
     "text": [
      "6\n"
     ]
    },
    {
     "data": {
      "image/png": "[encoded data removed]",
      "text/plain": [
       "<Figure size 432x288 with 1 Axes>"
      ]
     },
     "metadata": {
      "needs_background": "light"
     },
     "output_type": "display_data"
    },
    {
     "name": "stdout",
     "output_type": "stream",
     "text": [
      "9\n"
     ]
    },
    {
     "data": {
      "image/png": "[encoded data removed]",
      "text/plain": [
       "<Figure size 432x288 with 1 Axes>"
      ]
     },
     "metadata": {
      "needs_background": "light"
     },
     "output_type": "display_data"
    }
   ],
   "source": [
    "# Dataloader with normalization\n",
    "show5(train_loader)"
   ]
  },
  {
   "cell_type": "markdown",
   "metadata": {},
   "source": [
    "## Build your Neural Network\n",
    "Using the layers in `torch.nn` (which has been imported as `nn`) and the `torch.nn.functional` module (imported as `F`), construct a neural network based on the parameters of the dataset.\n",
    "Use any architecture you like. \n",
    "\n",
    "*Note*: If you did not flatten your tensors in your transforms or as part of your preprocessing and you are using only `Linear` layers, make sure to use the `Flatten` layer in your network!"
   ]
  },
  {
   "cell_type": "code",
   "execution_count": 6,
   "metadata": {},
   "outputs": [
    {
     "data": {
      "text/plain": [
       "Net(\n",
       "  (fc1): Linear(in_features=784, out_features=256, bias=True)\n",
       "  (fc2): Linear(in_features=256, out_features=128, bias=True)\n",
       "  (out): Linear(in_features=128, out_features=10, bias=True)\n",
       ")"
      ]
     },
     "execution_count": 6,
     "metadata": {},
     "output_type": "execute_result"
    }
   ],
   "source": [
    "class Net(nn.Module):\n",
    "    def __init__(self):\n",
    "        super().__init__()\n",
    "        self.activation = F.relu\n",
    "        self.fc1=nn.Linear(28 * 28 * 1,256)\n",
    "        self.fc2=nn.Linear(256,128)\n",
    "        self.out=nn.Linear(128,10)\n",
    "\n",
    "    def forward(self, x):\n",
    "        x = torch.flatten(x, 1) # flatten all dimensions except batch\n",
    "        x = self.activation(self.fc1(x))\n",
    "        x = self.activation(self.fc2(x))\n",
    "        x = self.out(x)\n",
    "        return x\n",
    "\n",
    "# Instantiate the model\n",
    "net = Net()\n",
    "net.to(device)"
   ]
  },
  {
   "cell_type": "markdown",
   "metadata": {},
   "source": [
    "Specify a loss function and an optimizer, and instantiate the model.\n",
    "\n",
    "If you use a less common loss function, please note why you chose that loss function in a comment."
   ]
  },
  {
   "cell_type": "code",
   "execution_count": 7,
   "metadata": {},
   "outputs": [],
   "source": [
    "# optimizer\n",
    "optimizer = optim.Adam(net.parameters(), lr=0.001)\n",
    "\n",
    "# loss function\n",
    "criterion = nn.CrossEntropyLoss()"
   ]
  },
  {
   "cell_type": "markdown",
   "metadata": {},
   "source": [
    "## Running your Neural Network\n",
    "Use whatever method you like to train your neural network, and ensure you record the average loss at each epoch. \n",
    "Don't forget to use `torch.device()` and the `.to()` method for both your model and your data if you are using GPU!\n",
    "\n",
    "If you want to print your loss **during** each epoch, you can use the `enumerate` function and print the loss after a set number of batches. 250 batches works well for most people!"
   ]
  },
  {
   "cell_type": "code",
   "execution_count": null,
   "metadata": {},
   "outputs": [
    {
     "name": "stdout",
     "output_type": "stream",
     "text": [
      "Epoch 1 training accuracy: 0.73% training loss: 0.82958\n",
      "Epoch 1 validation accuracy: 0.81% validation loss: 0.60887\n",
      "Epoch 2 training accuracy: 0.84% training loss: 0.50421\n",
      "Epoch 2 validation accuracy: 0.86% validation loss: 0.42254\n",
      "Epoch 3 training accuracy: 0.88% training loss: 0.39107\n",
      "Epoch 3 validation accuracy: 0.88% validation loss: 0.36776\n",
      "Epoch 4 training accuracy: 0.90% training loss: 0.32742\n",
      "Epoch 4 validation accuracy: 0.91% validation loss: 0.29490\n",
      "Epoch 5 training accuracy: 0.91% training loss: 0.29069\n",
      "Epoch 5 validation accuracy: 0.91% validation loss: 0.28156\n",
      "Epoch 6 training accuracy: 0.92% training loss: 0.26697\n",
      "Epoch 6 validation accuracy: 0.92% validation loss: 0.24363\n",
      "Epoch 7 training accuracy: 0.92% training loss: 0.25343\n",
      "Epoch 7 validation accuracy: 0.92% validation loss: 0.24176\n",
      "Epoch 8 training accuracy: 0.93% training loss: 0.23250\n",
      "Epoch 8 validation accuracy: 0.93% validation loss: 0.22104\n",
      "Epoch 9 training accuracy: 0.93% training loss: 0.22176\n",
      "Epoch 9 validation accuracy: 0.93% validation loss: 0.21586\n",
      "Epoch 10 training accuracy: 0.93% training loss: 0.21052\n",
      "Epoch 10 validation accuracy: 0.93% validation loss: 0.22326\n",
      "Epoch 11 training accuracy: 0.94% training loss: 0.19874\n",
      "Epoch 11 validation accuracy: 0.94% validation loss: 0.18574\n",
      "Epoch 12 training accuracy: 0.94% training loss: 0.19405\n",
      "Epoch 12 validation accuracy: 0.94% validation loss: 0.17576\n",
      "Epoch 13 training accuracy: 0.94% training loss: 0.18181\n",
      "Epoch 13 validation accuracy: 0.94% validation loss: 0.17011\n",
      "Epoch 14 training accuracy: 0.94% training loss: 0.17394\n",
      "Epoch 14 validation accuracy: 0.94% validation loss: 0.17111\n",
      "Epoch 15 training accuracy: 0.95% training loss: 0.17120\n",
      "Epoch 15 validation accuracy: 0.95% validation loss: 0.15687\n",
      "Epoch 16 training accuracy: 0.95% training loss: 0.16618\n"
     ]
    }
   ],
   "source": [
    "num_epochs = 20\n",
    "\n",
    "# Establish a list for our history\n",
    "train_loss_history = list()\n",
    "val_loss_history = list()\n",
    "\n",
    "for epoch in range(num_epochs):\n",
    "    net.train()\n",
    "    train_loss = 0.0\n",
    "    train_correct = 0\n",
    "    train_total = 0\n",
    "    for i, data in enumerate(train_loader):\n",
    "\n",
    "        # data is a list of [inputs, labels]\n",
    "        inputs, labels = data\n",
    "\n",
    "        # Pass to GPU if available.\n",
    "        inputs, labels = inputs.to(device), labels.to(device)\n",
    "        optimizer.zero_grad()\n",
    "        outputs = net(inputs)\n",
    "        loss = criterion(outputs, labels)\n",
    "        loss.backward()\n",
    "        optimizer.step()\n",
    "\n",
    "        _, preds = torch.max(outputs.data, 1)\n",
    "        train_correct += (preds == labels).sum().item()\n",
    "        train_loss += loss.item()\n",
    "        train_total += labels.shape[0]\n",
    "        \n",
    "    print(f'Epoch {epoch + 1} training accuracy: {train_correct/train_total:.2f}% training loss: {train_loss/len(train_loader):.5f}')\n",
    "    train_loss_history.append(train_loss/len(train_loader))\n",
    "    \n",
    "    val_loss = 0.0\n",
    "    val_correct = 0\n",
    "    val_total = 0\n",
    "    net.eval()\n",
    "    with torch.no_grad():\n",
    "        for inputs, labels in validation_loader:\n",
    "            inputs, labels = inputs.to(device), labels.to(device)\n",
    "\n",
    "            outputs = net(inputs)\n",
    "            loss = criterion(outputs, labels)\n",
    "\n",
    "            _, preds = torch.max(outputs.data, 1)\n",
    "            val_correct += (preds == labels).sum().item()\n",
    "            val_loss += loss.item()\n",
    "            val_total += labels.shape[0]\n",
    "    print(f'Epoch {epoch + 1} validation accuracy: {val_correct/val_total:.2f}% validation loss: {val_loss/len(validation_loader):.5f}')\n",
    "    val_loss_history.append(val_loss/len(validation_loader))\n"
   ]
  },
  {
   "cell_type": "markdown",
   "metadata": {},
   "source": [
    "Plot the training loss (and validation loss/accuracy, if recorded)."
   ]
  },
  {
   "cell_type": "code",
   "execution_count": 19,
   "metadata": {},
   "outputs": [
    {
     "data": {
      "image/png": "[encoded data removed]",
      "text/plain": [
       "<Figure size 432x288 with 1 Axes>"
      ]
     },
     "metadata": {
      "needs_background": "light"
     },
     "output_type": "display_data"
    }
   ],
   "source": [
    "# Plot the training and validation loss history\n",
    "plt.plot(train_loss_history, label=\"Training Loss\")\n",
    "plt.plot(val_loss_history, label=\"Validation Loss\")\n",
    "plt.legend()\n",
    "plt.show()"
   ]
  },
  {
   "cell_type": "markdown",
   "metadata": {},
   "source": [
    "## Testing your model\n",
    "Using the previously created `DataLoader` for the test set, compute the percentage of correct predictions using the highest probability prediction. \n",
    "\n",
    "If your accuracy is over 90%, great work, but see if you can push a bit further! \n",
    "If your accuracy is under 90%, you'll need to make improvements.\n",
    "Go back and check your model architecture, loss function, and optimizer to make sure they're appropriate for an image classification task."
   ]
  },
  {
   "cell_type": "code",
   "execution_count": 20,
   "metadata": {},
   "outputs": [
    {
     "name": "stdout",
     "output_type": "stream",
     "text": [
      "Validation Accuracy: 94.850%\n"
     ]
    }
   ],
   "source": [
    "correct_item = 0\n",
    "total_item = 0\n",
    "net.eval()\n",
    "with torch.no_grad():\n",
    "    for inputs, labels in test_loader:\n",
    "        inputs, labels = inputs.to(device), labels.to(device)\n",
    "\n",
    "        outputs = net(inputs)\n",
    "        loss = criterion(outputs, labels)\n",
    "\n",
    "        _, preds = torch.max(outputs.data, 1)\n",
    "        correct_item += (preds == labels).sum().item()\n",
    "        total_item += labels.size(0)\n",
    "    \n",
    "print(f\"Validation Accuracy: {(correct_item/total_item) * 100 :.3f}%\")"
   ]
  },
  {
   "cell_type": "markdown",
   "metadata": {},
   "source": [
    "## Improving your model\n",
    "\n",
    "Once your model is done training, try tweaking your hyperparameters and training again below to improve your accuracy on the test set!"
   ]
  },
  {
   "cell_type": "code",
   "execution_count": 8,
   "metadata": {},
   "outputs": [
    {
     "data": {
      "text/plain": [
       "Net(\n",
       "  (dropout): Dropout(p=0.2, inplace=False)\n",
       "  (fc1): Linear(in_features=784, out_features=512, bias=True)\n",
       "  (fc2): Linear(in_features=512, out_features=256, bias=True)\n",
       "  (fc3): Linear(in_features=256, out_features=128, bias=True)\n",
       "  (out): Linear(in_features=128, out_features=10, bias=True)\n",
       ")"
      ]
     },
     "execution_count": 8,
     "metadata": {},
     "output_type": "execute_result"
    }
   ],
   "source": [
    "class Net(nn.Module):\n",
    "    def __init__(self):\n",
    "        super().__init__()\n",
    "        self.activation = F.relu\n",
    "        self.dropout = nn.Dropout(0.2)\n",
    "        self.fc1=nn.Linear(28 * 28 * 1,512)\n",
    "        self.fc2=nn.Linear(512,256)\n",
    "        self.fc3=nn.Linear(256,128)\n",
    "        self.out=nn.Linear(128,10)\n",
    "\n",
    "\n",
    "    def forward(self, x):\n",
    "        x = torch.flatten(x, 1) # flatten all dimensions except batch\n",
    "        x = self.activation(self.fc1(x))\n",
    "        x = self.dropout(x)\n",
    "        x = self.activation(self.fc2(x))\n",
    "        x = self.dropout(x)\n",
    "        x = self.activation(self.fc3(x))\n",
    "        x = self.dropout(x)\n",
    "        x = self.out(x)\n",
    "        return x\n",
    "\n",
    "# Instantiate the model\n",
    "net = Net()\n",
    "net.to(device)"
   ]
  },
  {
   "cell_type": "code",
   "execution_count": 9,
   "metadata": {},
   "outputs": [],
   "source": [
    "# optimizer\n",
    "optimizer = optim.SGD(net.parameters(), lr=0.01, momentum=0.9)\n",
    "\n",
    "# loss function\n",
    "criterion = nn.CrossEntropyLoss()"
   ]
  },
  {
   "cell_type": "code",
   "execution_count": 10,
   "metadata": {},
   "outputs": [
    {
     "name": "stdout",
     "output_type": "stream",
     "text": [
      "Epoch 1 training accuracy: 0.51% training loss: 1.42037\n",
      "Epoch 1 validation accuracy: 0.74% validation loss: 0.75406\n",
      "Epoch 2 training accuracy: 0.75% training loss: 0.74622\n",
      "Epoch 2 validation accuracy: 0.81% validation loss: 0.58556\n",
      "Epoch 3 training accuracy: 0.80% training loss: 0.59950\n",
      "Epoch 3 validation accuracy: 0.85% validation loss: 0.47303\n",
      "Epoch 4 training accuracy: 0.84% training loss: 0.49999\n",
      "Epoch 4 validation accuracy: 0.87% validation loss: 0.40232\n",
      "Epoch 5 training accuracy: 0.86% training loss: 0.43246\n",
      "Epoch 5 validation accuracy: 0.89% validation loss: 0.33723\n",
      "Epoch 6 training accuracy: 0.88% training loss: 0.38298\n",
      "Epoch 6 validation accuracy: 0.91% validation loss: 0.29512\n",
      "Epoch 7 training accuracy: 0.89% training loss: 0.35167\n",
      "Epoch 7 validation accuracy: 0.91% validation loss: 0.27860\n",
      "Epoch 8 training accuracy: 0.90% training loss: 0.32542\n",
      "Epoch 8 validation accuracy: 0.92% validation loss: 0.25876\n",
      "Epoch 9 training accuracy: 0.90% training loss: 0.30938\n",
      "Epoch 9 validation accuracy: 0.93% validation loss: 0.23856\n",
      "Epoch 10 training accuracy: 0.91% training loss: 0.29095\n",
      "Epoch 10 validation accuracy: 0.93% validation loss: 0.21865\n",
      "Epoch 11 training accuracy: 0.92% training loss: 0.27620\n",
      "Epoch 11 validation accuracy: 0.93% validation loss: 0.21854\n",
      "Epoch 12 training accuracy: 0.92% training loss: 0.26468\n",
      "Epoch 12 validation accuracy: 0.94% validation loss: 0.19578\n",
      "Epoch 13 training accuracy: 0.92% training loss: 0.25446\n",
      "Epoch 13 validation accuracy: 0.94% validation loss: 0.18567\n",
      "Epoch 14 training accuracy: 0.92% training loss: 0.24602\n",
      "Epoch 14 validation accuracy: 0.94% validation loss: 0.18609\n",
      "Epoch 15 training accuracy: 0.92% training loss: 0.24284\n",
      "Epoch 15 validation accuracy: 0.94% validation loss: 0.18510\n",
      "Epoch 16 training accuracy: 0.93% training loss: 0.23097\n",
      "Epoch 16 validation accuracy: 0.94% validation loss: 0.17458\n",
      "Epoch 17 training accuracy: 0.93% training loss: 0.22170\n",
      "Epoch 17 validation accuracy: 0.95% validation loss: 0.16671\n",
      "Epoch 18 training accuracy: 0.93% training loss: 0.21816\n",
      "Epoch 18 validation accuracy: 0.95% validation loss: 0.16116\n",
      "Epoch 19 training accuracy: 0.93% training loss: 0.21298\n",
      "Epoch 19 validation accuracy: 0.95% validation loss: 0.15735\n",
      "Epoch 20 training accuracy: 0.94% training loss: 0.20696\n",
      "Epoch 20 validation accuracy: 0.95% validation loss: 0.15346\n",
      "Epoch 21 training accuracy: 0.94% training loss: 0.20115\n",
      "Epoch 21 validation accuracy: 0.95% validation loss: 0.14540\n",
      "Epoch 22 training accuracy: 0.94% training loss: 0.19538\n",
      "Epoch 22 validation accuracy: 0.95% validation loss: 0.14167\n",
      "Epoch 23 training accuracy: 0.94% training loss: 0.19231\n",
      "Epoch 23 validation accuracy: 0.95% validation loss: 0.15384\n",
      "Epoch 24 training accuracy: 0.94% training loss: 0.19065\n",
      "Epoch 24 validation accuracy: 0.95% validation loss: 0.14732\n",
      "Epoch 25 training accuracy: 0.94% training loss: 0.18402\n",
      "Epoch 25 validation accuracy: 0.96% validation loss: 0.13094\n",
      "Epoch 26 training accuracy: 0.94% training loss: 0.18163\n",
      "Epoch 26 validation accuracy: 0.96% validation loss: 0.13069\n",
      "Epoch 27 training accuracy: 0.94% training loss: 0.17530\n",
      "Epoch 27 validation accuracy: 0.96% validation loss: 0.12352\n",
      "Epoch 28 training accuracy: 0.95% training loss: 0.17543\n",
      "Epoch 28 validation accuracy: 0.96% validation loss: 0.12766\n",
      "Epoch 29 training accuracy: 0.95% training loss: 0.16909\n",
      "Epoch 29 validation accuracy: 0.96% validation loss: 0.12301\n",
      "Epoch 30 training accuracy: 0.95% training loss: 0.16966\n",
      "Epoch 30 validation accuracy: 0.96% validation loss: 0.12420\n"
     ]
    }
   ],
   "source": [
    "num_epochs = 30\n",
    "\n",
    "# Establish a list for our history\n",
    "train_loss_history = list()\n",
    "val_loss_history = list()\n",
    "\n",
    "for epoch in range(num_epochs):\n",
    "    net.train()\n",
    "    train_loss = 0.0\n",
    "    train_correct = 0\n",
    "    train_total = 0\n",
    "    for i, data in enumerate(train_loader):\n",
    "\n",
    "        # data is a list of [inputs, labels]\n",
    "        inputs, labels = data\n",
    "\n",
    "        # Pass to GPU if available.\n",
    "        inputs, labels = inputs.to(device), labels.to(device)\n",
    "        optimizer.zero_grad()\n",
    "        outputs = net(inputs)\n",
    "        loss = criterion(outputs, labels)\n",
    "        loss.backward()\n",
    "        optimizer.step()\n",
    "\n",
    "        _, preds = torch.max(outputs.data, 1)\n",
    "        train_correct += (preds == labels).sum().item()\n",
    "        train_loss += loss.item()\n",
    "        train_total += labels.shape[0]\n",
    "        \n",
    "    print(f'Epoch {epoch + 1} training accuracy: {train_correct/train_total:.2f}% training loss: {train_loss/len(train_loader):.5f}')\n",
    "    train_loss_history.append(train_loss/len(train_loader))\n",
    "    \n",
    "    val_loss = 0.0\n",
    "    val_correct = 0\n",
    "    val_total = 0\n",
    "    net.eval()\n",
    "    with torch.no_grad():\n",
    "        for inputs, labels in validation_loader:\n",
    "            inputs, labels = inputs.to(device), labels.to(device)\n",
    "\n",
    "            outputs = net(inputs)\n",
    "            loss = criterion(outputs, labels)\n",
    "\n",
    "            _, preds = torch.max(outputs.data, 1)\n",
    "            val_correct += (preds == labels).sum().item()\n",
    "            val_loss += loss.item()\n",
    "            val_total += labels.shape[0]\n",
    "    print(f'Epoch {epoch + 1} validation accuracy: {val_correct/val_total:.2f}% validation loss: {val_loss/len(validation_loader):.5f}')\n",
    "    val_loss_history.append(val_loss/len(validation_loader))\n"
   ]
  },
  {
   "cell_type": "code",
   "execution_count": 11,
   "metadata": {},
   "outputs": [
    {
     "name": "stdout",
     "output_type": "stream",
     "text": [
      "Validation Accuracy: 95.980%\n"
     ]
    }
   ],
   "source": [
    "correct_item = 0\n",
    "total_item = 0\n",
    "net.eval()\n",
    "with torch.no_grad():\n",
    "    for inputs, labels in test_loader:\n",
    "        inputs, labels = inputs.to(device), labels.to(device)\n",
    "\n",
    "        outputs = net(inputs)\n",
    "        loss = criterion(outputs, labels)\n",
    "\n",
    "        _, preds = torch.max(outputs.data, 1)\n",
    "        correct_item += (preds == labels).sum().item()\n",
    "        total_item += labels.size(0)\n",
    "    \n",
    "print(f\"Validation Accuracy: {(correct_item/total_item) * 100 :.3f}%\")"
   ]
  },
  {
   "cell_type": "markdown",
   "metadata": {},
   "source": [
    "## Saving your model\n",
    "Using `torch.save`, save your model for future loading."
   ]
  },
  {
   "cell_type": "code",
   "execution_count": 15,
   "metadata": {},
   "outputs": [
    {
     "data": {
      "text/plain": [
       "OrderedDict([('fc1.weight',\n",
       "              tensor([[ 0.0104, -0.0311, -0.0098,  ..., -0.0038, -0.0201, -0.0046],\n",
       "                      [ 0.0191,  0.0280, -0.0315,  ..., -0.0141,  0.0099, -0.0129],\n",
       "                      [ 0.0358,  0.0060, -0.0257,  ...,  0.0193, -0.0264, -0.0168],\n",
       "                      ...,\n",
       "                      [-0.0215,  0.0321,  0.0240,  ...,  0.0050, -0.0131,  0.0347],\n",
       "                      [-0.0061, -0.0025,  0.0326,  ..., -0.0327,  0.0202, -0.0273],\n",
       "                      [-0.0332,  0.0179,  0.0130,  ..., -0.0084,  0.0332,  0.0154]])),\n",
       "             ('fc1.bias',\n",
       "              tensor([ 7.5936e-03, -3.0194e-02, -3.2045e-02, -2.4491e-02,  2.2543e-02,\n",
       "                      -2.4224e-02,  7.5858e-03, -3.5318e-04, -2.4032e-02,  8.5844e-03,\n",
       "                       1.2108e-02,  1.1326e-02,  1.0217e-02,  3.0163e-02,  5.2865e-03,\n",
       "                      -2.9226e-02, -8.4271e-03, -1.4788e-02,  2.1086e-02,  1.1380e-02,\n",
       "                      -1.1355e-02,  1.4157e-02, -4.7043e-02, -1.5924e-02,  1.2934e-02,\n",
       "                       8.4452e-03,  1.8819e-02, -7.3754e-03, -3.9287e-03,  1.4509e-02,\n",
       "                       1.9402e-02,  4.2285e-03,  1.4869e-02,  1.3352e-02,  1.6642e-02,\n",
       "                       2.0300e-02, -1.4510e-02, -1.2625e-02, -2.2254e-02, -7.5938e-03,\n",
       "                       2.9720e-02,  1.1992e-02,  1.8406e-03, -8.5806e-03,  3.0692e-02,\n",
       "                       2.5809e-02,  2.1985e-02, -1.0042e-02, -3.3705e-03,  1.7628e-02,\n",
       "                      -3.6323e-02, -1.3688e-02, -2.1061e-02,  6.1231e-03, -7.7619e-04,\n",
       "                      -1.8395e-02,  3.0657e-02, -1.2097e-02, -1.3262e-02, -1.6379e-02,\n",
       "                      -2.0580e-02, -3.2405e-02, -2.8016e-02, -1.2115e-02,  7.9842e-03,\n",
       "                       2.5064e-02, -8.8706e-03, -2.5957e-02,  1.8110e-02,  2.6272e-03,\n",
       "                       1.7364e-02,  3.5762e-02, -9.1519e-03, -3.8463e-03, -8.5024e-03,\n",
       "                      -2.8108e-03,  3.5009e-03, -4.4700e-02, -4.0226e-02, -2.1093e-02,\n",
       "                       9.6831e-03,  4.3237e-03, -5.4122e-03,  2.5689e-02,  5.4069e-03,\n",
       "                      -7.1448e-03, -2.4908e-02,  2.1144e-02,  1.3309e-02, -4.6994e-02,\n",
       "                      -1.0353e-02, -2.1659e-03,  5.3674e-03, -1.2038e-02, -3.9628e-02,\n",
       "                       1.8962e-02,  2.2192e-02,  1.1438e-02, -7.4211e-03, -1.3179e-02,\n",
       "                      -2.3985e-02, -3.4070e-02, -1.7425e-02, -2.3717e-02, -1.6121e-02,\n",
       "                      -1.4812e-02, -3.5752e-02,  2.8428e-02,  6.6740e-03, -1.6036e-02,\n",
       "                       2.3178e-02,  3.3300e-02, -3.1017e-02, -2.8415e-03, -2.7101e-02,\n",
       "                      -1.9293e-02,  2.2974e-02, -2.7971e-02,  2.4395e-02, -1.5396e-02,\n",
       "                      -7.3036e-03, -2.0820e-03,  1.8205e-02, -1.1333e-02, -1.1676e-02,\n",
       "                      -2.0414e-02, -2.8404e-02,  2.0660e-02,  1.4366e-02, -8.0263e-03,\n",
       "                       1.9309e-03, -6.2050e-03,  2.6469e-02,  1.7157e-02, -5.6262e-03,\n",
       "                       5.2170e-03, -1.3771e-02,  1.7309e-02, -2.6327e-03,  2.3094e-03,\n",
       "                       3.3246e-02, -2.9913e-02,  1.9565e-02,  3.6386e-03, -3.0271e-02,\n",
       "                      -2.7301e-02, -3.3352e-02, -2.2696e-02,  2.9935e-02,  1.9752e-02,\n",
       "                      -2.0356e-02, -1.7670e-02,  9.1333e-03, -1.1627e-02, -7.8809e-03,\n",
       "                      -3.0279e-02, -4.9618e-03,  2.5652e-02,  5.3197e-03,  9.1130e-05,\n",
       "                       9.7802e-03, -6.5034e-03, -1.6057e-02, -1.2719e-02,  5.2315e-03,\n",
       "                      -3.1825e-02,  2.9884e-02,  2.6900e-02,  5.6518e-03,  2.7301e-02,\n",
       "                       1.2996e-02, -3.5228e-02,  1.3645e-02,  2.1292e-02,  3.4246e-02,\n",
       "                       3.5202e-02, -1.7565e-02,  1.7907e-02, -2.0100e-02, -3.1036e-02,\n",
       "                      -1.6933e-02, -1.5098e-02,  3.2638e-02, -1.7059e-03,  7.6738e-03,\n",
       "                      -4.0478e-02,  2.5684e-02, -2.3116e-02, -6.6845e-03,  7.3232e-03,\n",
       "                       2.3095e-02,  2.6979e-03, -9.4446e-03,  3.1384e-02, -6.5140e-03,\n",
       "                       2.3352e-02,  1.9841e-02,  1.5103e-02,  8.3938e-03, -3.1528e-02,\n",
       "                       1.4983e-02, -9.0689e-03, -1.9847e-02,  8.5016e-03,  2.3505e-02,\n",
       "                       1.9404e-02, -9.3415e-03, -3.3223e-02, -1.3524e-03, -3.8088e-02,\n",
       "                       1.0746e-02,  2.5804e-02,  2.5110e-02,  9.3316e-03,  2.0891e-02,\n",
       "                      -2.3005e-02, -3.5241e-03, -2.9200e-02, -1.4169e-02, -6.7367e-03,\n",
       "                      -1.0531e-02, -2.2958e-02, -1.4665e-02,  3.5476e-02, -1.1447e-02,\n",
       "                       1.2212e-02,  2.1971e-02,  7.3954e-04, -3.2821e-02,  9.7196e-04,\n",
       "                      -1.7359e-02,  1.6114e-02, -2.4168e-03, -3.3995e-03, -3.0130e-02,\n",
       "                      -5.6132e-03,  1.5926e-02,  2.1036e-02,  2.3993e-02, -3.7226e-02,\n",
       "                      -3.7142e-02,  1.5372e-02, -3.0389e-02, -2.2317e-02, -1.9044e-02,\n",
       "                      -3.4766e-02,  8.0324e-03, -2.2882e-02, -3.1125e-02,  8.8923e-03,\n",
       "                      -3.3783e-02,  2.1293e-02, -1.0954e-02, -2.1369e-02,  2.6120e-02,\n",
       "                      -1.9997e-02,  5.4862e-03, -2.3082e-02,  1.6241e-02,  4.3640e-03,\n",
       "                      -2.0538e-02, -3.0650e-03, -3.8411e-02, -2.9902e-02, -4.2409e-02,\n",
       "                       9.1916e-03,  9.5535e-05,  7.1819e-03, -1.6792e-02,  2.1087e-02,\n",
       "                       2.7366e-03,  2.7989e-02, -3.9770e-02, -2.9490e-03,  6.2656e-03,\n",
       "                       7.0280e-03, -2.3034e-02,  3.4113e-03,  1.8578e-02, -5.1792e-03,\n",
       "                       2.9785e-02,  5.6379e-03, -2.2556e-02, -2.2625e-02, -1.6971e-02,\n",
       "                       2.1857e-02,  1.9132e-02, -1.8371e-02,  2.6791e-02,  2.5097e-02,\n",
       "                       3.5857e-02, -1.6097e-02, -1.1697e-02,  1.6485e-02,  1.8286e-02,\n",
       "                      -3.1490e-02,  3.3281e-03, -3.4513e-02,  1.6573e-02, -8.6791e-03,\n",
       "                       3.1006e-02, -1.7277e-02, -7.9645e-03, -1.7951e-02, -3.5698e-02,\n",
       "                      -2.9409e-02, -2.0286e-02,  1.8748e-02, -4.4002e-03, -2.4616e-02,\n",
       "                      -8.7659e-03, -2.6764e-02, -2.3034e-02,  1.0012e-02, -2.8497e-02,\n",
       "                       2.8916e-02,  8.8976e-03, -1.2548e-02,  1.3420e-02,  6.3792e-03,\n",
       "                      -4.9136e-04,  2.6946e-02,  2.9478e-02,  1.5445e-02,  9.1321e-03,\n",
       "                      -2.1298e-02, -1.8807e-02, -2.7203e-02,  1.5201e-02, -7.3747e-03,\n",
       "                       2.2520e-02,  3.5646e-03, -6.1302e-03,  9.3530e-04, -1.2200e-02,\n",
       "                       5.4791e-03, -1.5222e-02, -3.4231e-02,  8.5316e-03, -1.7590e-03,\n",
       "                       1.2130e-02,  3.4771e-03, -1.6775e-02,  2.3605e-02, -7.1421e-03,\n",
       "                      -3.1674e-02,  2.2927e-02, -1.2148e-02, -4.3668e-02, -2.9108e-02,\n",
       "                      -4.7368e-03,  1.2067e-02,  2.3618e-02,  3.2328e-02, -1.3177e-02,\n",
       "                      -2.0298e-03, -1.1021e-02, -1.2990e-02, -4.3379e-02,  1.0191e-02,\n",
       "                      -1.9316e-02,  1.4714e-02, -8.3351e-03, -1.0443e-02, -3.4097e-03,\n",
       "                      -3.9783e-03, -1.2178e-02, -2.4177e-02, -6.2742e-04, -5.8443e-03,\n",
       "                      -4.0542e-02,  7.1452e-03, -2.9136e-03, -1.9974e-02,  1.8189e-02,\n",
       "                       3.2704e-02,  2.3974e-02,  1.9685e-02,  8.4646e-03, -3.4683e-02,\n",
       "                      -6.1726e-03,  3.0385e-02,  1.3827e-02,  5.8078e-03,  3.5053e-02,\n",
       "                       2.3669e-03, -5.8990e-03,  1.6750e-02, -2.0647e-02, -2.8906e-02,\n",
       "                      -1.6935e-02,  1.0630e-02,  2.2494e-02, -6.2368e-03,  2.3733e-02,\n",
       "                      -2.5929e-02,  1.9861e-02, -3.4970e-02, -7.7274e-03, -7.3672e-03,\n",
       "                       6.0073e-03,  2.8489e-02,  1.8023e-02,  3.8184e-02, -5.4717e-03,\n",
       "                       1.4337e-02,  2.9200e-02, -3.0909e-02,  4.1415e-03, -8.5310e-03,\n",
       "                      -1.9212e-02, -1.5263e-02, -4.0765e-03,  2.0347e-02, -1.7056e-03,\n",
       "                      -2.8022e-02,  2.5920e-02, -2.9319e-02,  6.6293e-03,  6.2849e-03,\n",
       "                       1.8965e-02,  2.6359e-02,  2.3704e-02, -2.0919e-04, -4.3239e-02,\n",
       "                       1.7676e-02, -6.6274e-03,  2.9971e-02,  8.1769e-03,  2.1000e-02,\n",
       "                       2.4455e-02, -3.1822e-02,  2.0957e-02,  2.3003e-03, -1.9831e-02,\n",
       "                       1.2083e-02, -4.2191e-02, -3.8639e-02, -1.1076e-02, -2.8021e-02,\n",
       "                      -1.2663e-02,  9.7054e-03, -1.5626e-02,  1.2643e-02, -8.8689e-03,\n",
       "                      -2.5102e-02, -3.1830e-02, -3.4583e-03,  1.3791e-02,  3.4951e-02,\n",
       "                      -2.5302e-02,  1.4211e-02,  1.7834e-02, -5.1505e-02,  1.8786e-02,\n",
       "                       2.5488e-02, -2.0652e-02,  2.1110e-02,  8.9332e-03,  2.1412e-02,\n",
       "                      -1.8979e-02,  1.2855e-02,  1.2753e-02, -6.6740e-03,  2.8298e-02,\n",
       "                      -2.6766e-02, -1.4511e-02, -1.9642e-02, -1.4982e-03,  1.2172e-02,\n",
       "                       9.7816e-03, -2.0670e-02,  2.3399e-02, -7.6037e-03,  1.0406e-02,\n",
       "                      -1.3194e-02,  1.9001e-02, -1.6732e-02, -7.9240e-03, -1.5929e-03,\n",
       "                      -3.3319e-02, -6.1032e-03,  3.0365e-02,  6.9181e-03,  3.2978e-03,\n",
       "                       2.3826e-02,  3.3258e-03,  2.8213e-02,  1.5187e-02,  2.6125e-02,\n",
       "                       2.1273e-02,  5.6278e-03, -9.5805e-03,  2.5738e-02,  1.4342e-04,\n",
       "                      -3.9140e-02,  3.8976e-03, -2.0158e-02,  2.3429e-03, -1.8518e-02,\n",
       "                      -1.0861e-02,  1.0443e-02, -1.5299e-02, -3.3214e-03, -2.2804e-02,\n",
       "                      -2.5201e-02, -2.7960e-02,  4.2802e-02,  2.5139e-03,  2.0999e-03,\n",
       "                       8.7800e-03,  1.8076e-02])),\n",
       "             ('fc2.weight',\n",
       "              tensor([[-0.0476,  0.0286,  0.0015,  ...,  0.0036,  0.0151,  0.0421],\n",
       "                      [ 0.0214,  0.0049, -0.0299,  ...,  0.0046, -0.0417, -0.0060],\n",
       "                      [-0.0148,  0.0019,  0.0045,  ...,  0.0024, -0.0263,  0.0252],\n",
       "                      ...,\n",
       "                      [ 0.0191,  0.0136, -0.0166,  ...,  0.0439, -0.0372, -0.0313],\n",
       "                      [ 0.0479, -0.0390, -0.0313,  ...,  0.0186,  0.0114, -0.0280],\n",
       "                      [-0.0108, -0.0304, -0.0269,  ...,  0.0135, -0.0094,  0.0013]])),\n",
       "             ('fc2.bias',\n",
       "              tensor([ 7.1202e-02,  1.7570e-02,  2.1244e-01,  1.1543e-02, -7.0504e-02,\n",
       "                      -2.3215e-02,  2.1255e-02,  7.0938e-02,  2.4575e-02,  2.7935e-02,\n",
       "                       4.3355e-02,  6.1535e-02, -7.3647e-02,  9.0890e-02,  1.6200e-01,\n",
       "                       5.7036e-04, -9.8854e-03,  1.1249e-01, -8.5239e-03,  6.2718e-02,\n",
       "                      -8.4313e-02,  5.2285e-02,  5.0334e-02,  1.1205e-01,  3.4127e-02,\n",
       "                       2.3266e-02, -1.2347e-01,  1.0969e-01, -2.8151e-02,  1.4125e-01,\n",
       "                       1.2267e-02,  3.6510e-02, -4.2248e-02, -1.5261e-01,  5.7116e-02,\n",
       "                      -1.6126e-01,  2.1155e-02,  3.3461e-02,  1.1583e-02, -2.9033e-02,\n",
       "                       5.8823e-02, -4.9585e-02, -8.9736e-02,  6.3597e-02, -1.5759e-01,\n",
       "                      -1.4304e-02, -5.7615e-02, -1.9826e-02,  7.2391e-02,  1.3249e-01,\n",
       "                       5.3524e-02,  3.2091e-02,  2.8888e-02, -2.9503e-02, -2.9023e-02,\n",
       "                      -2.0493e-02,  6.2144e-03,  1.4213e-02,  6.3671e-02, -2.3900e-02,\n",
       "                       1.1319e-02, -6.7008e-02,  6.8088e-02, -4.0135e-02,  1.5719e-02,\n",
       "                       1.5106e-01,  1.4271e-01, -5.2770e-02, -1.4197e-01, -2.4335e-03,\n",
       "                      -1.1314e-02, -2.8937e-02,  4.4243e-02,  3.1314e-02,  4.3248e-03,\n",
       "                       6.7768e-03,  7.8404e-02,  6.3061e-02, -6.6388e-02, -4.6480e-02,\n",
       "                       4.9230e-02, -1.8891e-02, -1.6696e-02, -1.6110e-02, -4.6848e-04,\n",
       "                       2.2592e-01, -1.5087e-02, -1.3432e-01, -7.5833e-02, -4.4138e-02,\n",
       "                      -1.0008e-01,  2.1228e-02, -4.1507e-02,  1.2198e-02,  4.5642e-02,\n",
       "                       1.9314e-02, -2.1621e-02, -3.6110e-02,  4.6819e-02, -4.7136e-02,\n",
       "                       6.6905e-02, -1.9889e-02, -4.2021e-02,  1.2739e-01, -1.0680e-01,\n",
       "                       5.2859e-02,  3.1089e-02, -7.9394e-02, -5.5952e-03, -8.1473e-03,\n",
       "                      -1.0923e-01, -2.6232e-03,  8.0689e-02, -1.2340e-02,  9.0092e-03,\n",
       "                      -4.6595e-02, -3.6616e-02,  1.1325e-01,  4.8782e-03,  5.0045e-02,\n",
       "                       2.4783e-02,  4.5859e-02,  5.9108e-03, -6.0485e-02,  1.2675e-01,\n",
       "                       5.0208e-02,  2.0688e-02, -1.1801e-01,  1.1407e-01,  1.1413e-01,\n",
       "                      -8.7502e-02, -4.4907e-02, -2.5043e-02, -4.4817e-02,  9.9788e-03,\n",
       "                       7.2191e-02,  5.2554e-03,  2.4570e-03,  7.5399e-03,  2.3517e-01,\n",
       "                       4.1149e-02,  2.4153e-02, -6.1866e-03, -2.7842e-02, -4.4629e-02,\n",
       "                       6.1504e-02,  1.6888e-02,  1.7269e-01, -1.8630e-02,  9.0323e-03,\n",
       "                      -3.7399e-03,  9.5720e-02,  4.2687e-02,  1.8433e-01,  4.8897e-02,\n",
       "                       5.0348e-02, -4.8409e-02,  7.2400e-02,  3.8989e-02, -4.5660e-02,\n",
       "                      -1.3782e-02,  1.4745e-01,  6.5990e-02, -4.9259e-02, -4.8975e-02,\n",
       "                       1.4473e-01, -3.2493e-02,  1.5400e-02, -6.0223e-03, -1.3504e-02,\n",
       "                       5.2349e-02, -4.0554e-02, -8.6665e-02,  1.5594e-01, -5.9072e-03,\n",
       "                       4.4472e-02, -1.8732e-02,  6.0343e-02,  1.6312e-01, -4.4944e-02,\n",
       "                       1.4607e-02,  1.1667e-02,  8.5376e-02,  4.6038e-02,  2.3597e-02,\n",
       "                       1.0729e-01,  4.8691e-03,  5.4941e-02,  7.4370e-02,  1.3280e-01,\n",
       "                       5.8337e-02,  2.5549e-02, -4.6860e-02, -3.0389e-02,  4.9454e-02,\n",
       "                       2.9932e-02,  2.1655e-01,  1.2559e-01,  1.6811e-02,  1.1052e-02,\n",
       "                      -9.6170e-02, -2.0050e-01, -1.0351e-01, -1.0849e-01,  9.9393e-02,\n",
       "                      -5.0810e-02, -1.1407e-02,  7.5869e-02,  1.3236e-03, -1.2165e-01,\n",
       "                       2.4114e-02,  2.1508e-02,  7.6366e-02, -4.5404e-02,  1.1842e-03,\n",
       "                      -2.8622e-02, -5.2487e-02,  8.3612e-02, -4.0392e-02, -4.1783e-02,\n",
       "                      -3.7518e-03, -5.5686e-02,  1.3324e-01,  1.8443e-04, -1.9471e-02,\n",
       "                       3.2790e-02, -1.1014e-01, -5.0085e-02, -5.6182e-02, -6.0343e-02,\n",
       "                      -2.4799e-02, -1.3698e-02,  8.6037e-02,  2.4683e-03, -2.5937e-02,\n",
       "                       2.8971e-02,  1.2690e-02, -9.4167e-03, -1.2922e-02,  5.6479e-02,\n",
       "                       2.4087e-02,  4.9955e-02,  1.2296e-01, -2.1069e-02,  8.5634e-03,\n",
       "                       3.9400e-02,  3.3762e-02,  4.4138e-02,  2.6581e-02,  6.1462e-02,\n",
       "                      -1.9385e-02,  2.1485e-02, -1.2772e-01, -4.2384e-02,  8.1385e-02,\n",
       "                      -2.1685e-02])),\n",
       "             ('fc3.weight',\n",
       "              tensor([[ 0.0360,  0.0075, -0.0569,  ..., -0.0187, -0.0017, -0.0378],\n",
       "                      [ 0.0780,  0.0248,  0.1365,  ...,  0.0328, -0.0342, -0.0946],\n",
       "                      [-0.0442,  0.0616,  0.0485,  ..., -0.0611,  0.0178,  0.0090],\n",
       "                      ...,\n",
       "                      [-0.0343,  0.0484,  0.0861,  ..., -0.0423, -0.0462,  0.0538],\n",
       "                      [ 0.0231,  0.0586,  0.0382,  ..., -0.1205,  0.0123, -0.1127],\n",
       "                      [-0.0407,  0.0118, -0.0401,  ...,  0.0309,  0.0487, -0.0217]])),\n",
       "             ('fc3.bias',\n",
       "              tensor([ 0.1022,  0.0740,  0.2052,  0.0217,  0.1180, -0.0374,  0.0211,  0.0217,\n",
       "                       0.1774,  0.1175,  0.1133,  0.0557, -0.0561,  0.1740,  0.1081, -0.0629,\n",
       "                       0.2112,  0.0527,  0.0200, -0.0546,  0.0235,  0.1394, -0.0881,  0.0149,\n",
       "                       0.1237,  0.1074,  0.0807, -0.1236,  0.0072,  0.0444,  0.0343, -0.0674,\n",
       "                       0.0216, -0.0068,  0.0555, -0.0714, -0.0491, -0.1147, -0.0349,  0.1219,\n",
       "                       0.0343, -0.0383, -0.0096, -0.0768,  0.0574,  0.0392,  0.1414,  0.0848,\n",
       "                      -0.0572,  0.0330, -0.1600, -0.0056, -0.0410,  0.0753, -0.0746,  0.1279,\n",
       "                       0.1063,  0.0343,  0.1385,  0.0116, -0.0146,  0.0547,  0.1339,  0.0530,\n",
       "                      -0.0623,  0.0126,  0.0929, -0.0663,  0.0941,  0.1216,  0.0025, -0.0263,\n",
       "                       0.0577,  0.1146, -0.0281, -0.0417,  0.1782, -0.0248,  0.0107,  0.1827,\n",
       "                       0.0927, -0.0247, -0.0377, -0.1039,  0.0400,  0.0525,  0.0609,  0.1609,\n",
       "                       0.0293,  0.0238,  0.0469, -0.0468,  0.0374,  0.0237,  0.0126, -0.0343,\n",
       "                      -0.0359,  0.1064,  0.1218, -0.0143,  0.0754,  0.0545,  0.1919,  0.1385,\n",
       "                      -0.0137, -0.0469,  0.0705,  0.1147, -0.0206,  0.0303,  0.0192,  0.0736,\n",
       "                      -0.0044,  0.0167, -0.0253,  0.0249, -0.0365,  0.0709,  0.0778,  0.0264,\n",
       "                      -0.0082,  0.1335, -0.1270,  0.0441,  0.0133,  0.1167,  0.0672,  0.1360])),\n",
       "             ('out.weight',\n",
       "              tensor([[-0.0071, -0.1200,  0.2584,  ..., -0.2602,  0.2365,  0.1627],\n",
       "                      [-0.4026,  0.3036, -0.3772,  ...,  0.1265,  0.0303, -0.5191],\n",
       "                      [ 0.3115, -0.3105,  0.1108,  ..., -0.3367, -0.2633,  0.1285],\n",
       "                      ...,\n",
       "                      [-0.1880, -0.0737, -0.2247,  ...,  0.1659, -0.0519, -0.0649],\n",
       "                      [-0.1362,  0.2746,  0.1734,  ...,  0.2567,  0.0361, -0.0810],\n",
       "                      [ 0.1154,  0.1457, -0.0486,  ..., -0.1538, -0.4170,  0.0934]])),\n",
       "             ('out.bias',\n",
       "              tensor([ 3.3988e-04, -3.1633e-01,  9.3538e-02, -1.4056e-01,  1.0953e-01,\n",
       "                      -1.4213e-01,  2.1361e-02, -1.5688e-01,  4.0374e-01, -1.6083e-02]))])"
      ]
     },
     "execution_count": 15,
     "metadata": {},
     "output_type": "execute_result"
    }
   ],
   "source": [
    "net.state_dict()"
   ]
  },
  {
   "cell_type": "code",
   "execution_count": 16,
   "metadata": {},
   "outputs": [
    {
     "data": {
      "text/plain": [
       "{'state': {0: {'momentum_buffer': tensor([[-5.2050e-04, -5.2050e-04, -5.2050e-04,  ..., -5.2050e-04,\n",
       "            -5.2050e-04, -5.2050e-04],\n",
       "           [-5.1437e-16, -5.1437e-16, -5.1437e-16,  ..., -5.1437e-16,\n",
       "            -5.1437e-16, -5.1437e-16],\n",
       "           [-9.3781e-03, -9.3781e-03, -9.3781e-03,  ..., -9.3781e-03,\n",
       "            -9.3781e-03, -9.3781e-03],\n",
       "           ...,\n",
       "           [-1.2903e-02, -1.2903e-02, -1.2903e-02,  ..., -1.2903e-02,\n",
       "            -1.2903e-02, -1.2903e-02],\n",
       "           [ 1.1058e-02,  1.1058e-02,  1.1058e-02,  ...,  1.1058e-02,\n",
       "             1.1058e-02,  1.1058e-02],\n",
       "           [-9.1211e-09, -9.1211e-09, -9.1211e-09,  ..., -9.1211e-09,\n",
       "            -9.1211e-09, -9.1211e-09]])},\n",
       "  1: {'momentum_buffer': tensor([ 5.2050e-04,  5.1437e-16,  9.3781e-03, -4.0149e-03, -1.3339e-03,\n",
       "            8.8022e-04, -9.9626e-10,  1.9993e-03, -2.1863e-03,  5.1336e-03,\n",
       "           -4.6081e-10,  5.9265e-03, -7.8253e-03, -2.3317e-08,  2.1419e-03,\n",
       "           -5.1421e-03, -8.3356e-03,  9.1227e-04, -2.9890e-03, -2.4538e-03,\n",
       "           -5.4709e-03, -1.0282e-03,  2.6390e-04,  7.8330e-03,  3.4678e-07,\n",
       "           -3.0258e-03, -1.0163e-03, -1.7774e-03,  1.2456e-05,  1.0342e-02,\n",
       "           -3.2792e-03,  4.6021e-04,  8.0976e-04,  7.5008e-04, -2.5727e-03,\n",
       "            7.5142e-03,  2.8953e-03, -6.1680e-03,  2.3212e-03, -2.4039e-03,\n",
       "           -3.1160e-03, -7.7261e-03,  4.8171e-03, -5.8851e-04,  5.4609e-03,\n",
       "           -3.5139e-03, -5.3618e-03, -1.4638e-12,  4.4938e-03,  2.2657e-04,\n",
       "           -3.7542e-03,  9.9500e-03, -1.4057e-03, -1.8020e-02, -2.8606e-03,\n",
       "           -6.7959e-05, -1.8712e-03, -3.7849e-04,  1.4207e-03, -5.0774e-03,\n",
       "           -1.0488e-05,  3.7626e-03,  8.3455e-03,  1.7234e-03, -9.1621e-03,\n",
       "            2.8826e-08, -9.9710e-04,  1.6310e-04,  6.2079e-03, -2.0875e-03,\n",
       "           -9.1201e-04,  1.6661e-02,  5.2427e-03,  2.2557e-03, -1.3505e-03,\n",
       "            2.7124e-03, -6.0304e-04, -6.4267e-04, -3.5148e-03, -8.9297e-03,\n",
       "           -4.5355e-03,  8.7164e-04, -1.0677e-04,  2.0220e-03, -3.6773e-03,\n",
       "           -9.5208e-06, -4.4238e-03,  4.9196e-04, -2.2916e-11,  2.7945e-03,\n",
       "           -1.2817e-02,  1.0000e-02,  1.5794e-02, -7.7706e-03,  1.0217e-02,\n",
       "            1.4677e-02, -1.1101e-03, -5.2368e-05, -9.6584e-04,  4.0004e-07,\n",
       "           -1.7261e-03, -8.3768e-03, -2.2686e-03,  2.0915e-03, -4.6578e-04,\n",
       "           -6.7765e-03,  6.5141e-03,  5.8621e-04,  4.7336e-03, -7.1553e-04,\n",
       "            3.7789e-03,  3.0682e-07, -2.5955e-03,  3.7257e-05, -3.4702e-03,\n",
       "           -6.6916e-03,  9.8261e-04, -6.9854e-03,  1.5211e-03, -4.8303e-04,\n",
       "           -7.1660e-04,  1.2507e-03, -1.1127e-04, -2.2939e-03, -6.2059e-03,\n",
       "           -4.2758e-03, -4.4697e-09,  2.0352e-03, -7.2343e-03,  6.4669e-03,\n",
       "            4.0506e-03, -3.9885e-03,  1.7722e-06, -3.0113e-03, -3.0192e-03,\n",
       "            1.4232e-03, -6.0187e-03,  9.3393e-03, -2.6351e-04,  1.0943e-02,\n",
       "            4.8609e-03,  2.7876e-03, -2.7525e-03, -8.7369e-03,  6.4544e-04,\n",
       "           -7.2711e-03, -5.9123e-03,  7.1625e-04, -2.3010e-03, -3.8593e-04,\n",
       "            1.7179e-05, -3.1038e-03, -2.6277e-04,  2.7231e-03, -7.3766e-03,\n",
       "            4.2858e-05,  1.3440e-03,  6.6349e-03, -6.1361e-04, -9.6727e-03,\n",
       "            4.8635e-06, -1.7176e-03,  4.0204e-03,  2.2809e-03,  1.2369e-03,\n",
       "           -4.5106e-03,  7.7877e-04, -2.1349e-03,  3.4823e-03,  1.8643e-03,\n",
       "           -2.2768e-03,  2.0914e-04, -4.4092e-03,  2.5026e-08,  4.6081e-04,\n",
       "           -9.8740e-04, -1.1147e-02,  9.3413e-03,  8.0466e-04, -3.5556e-04,\n",
       "            4.7558e-03, -3.2282e-04,  4.2357e-11,  7.1805e-03, -1.9022e-02,\n",
       "           -5.9337e-03,  6.0819e-05,  5.2069e-04, -1.5127e-03, -4.6246e-03,\n",
       "           -8.6201e-04,  7.3747e-03,  2.1989e-03, -3.2832e-03, -1.8333e-04,\n",
       "           -6.0784e-03,  2.6043e-03, -4.6279e-03, -3.6082e-03, -1.7450e-03,\n",
       "           -4.4326e-03, -1.7955e-04,  2.6539e-04, -6.6805e-04,  8.4846e-03,\n",
       "            1.0268e-03, -5.0622e-04,  2.2171e-04, -1.8428e-03, -1.1328e-02,\n",
       "           -2.8141e-03,  9.3675e-04,  9.6420e-04, -1.3048e-03,  1.0519e-02,\n",
       "           -1.0494e-02,  3.8588e-04,  4.2410e-03,  1.0157e-03,  4.6285e-03,\n",
       "            6.8277e-03,  3.5969e-04, -4.0522e-04,  1.9954e-03,  2.3694e-03,\n",
       "            2.8433e-03, -5.3233e-03, -6.8461e-03, -2.3425e-03, -6.3338e-04,\n",
       "            3.4969e-03, -9.5173e-03, -1.0638e-03, -6.1236e-03, -7.0270e-04,\n",
       "           -4.2408e-03,  3.3445e-03, -2.3473e-03,  1.3373e-02, -9.3862e-04,\n",
       "           -4.1183e-03, -1.1027e-02, -4.2165e-03, -3.7148e-04, -1.6095e-06,\n",
       "           -2.6045e-03, -3.0558e-03, -2.9044e-03,  6.5150e-04, -3.3511e-05,\n",
       "           -7.1424e-03,  1.0797e-02,  1.6173e-03,  4.1334e-03, -7.3359e-04,\n",
       "            1.3824e-02, -5.2643e-03, -1.0023e-02, -1.5695e-03,  3.4490e-03,\n",
       "            2.1782e-04, -1.3417e-03,  1.5258e-02,  2.6767e-04, -3.7631e-03,\n",
       "           -2.4021e-03,  3.0723e-03, -4.5835e-03,  2.9687e-03,  3.0814e-03,\n",
       "            1.8211e-03, -1.2597e-03, -2.8857e-03,  1.5688e-03,  1.6084e-10,\n",
       "           -5.7915e-04, -3.8312e-03, -7.1361e-03,  2.9304e-03,  1.5240e-03,\n",
       "           -9.7591e-03,  3.0930e-03,  4.9264e-03, -1.6326e-04, -1.0005e-02,\n",
       "           -1.9664e-03, -3.5789e-03,  1.3396e-03,  1.4045e-08, -2.2375e-03,\n",
       "            2.0952e-03, -7.1903e-04, -3.3321e-03,  2.8860e-03,  3.9630e-04,\n",
       "            2.8965e-03,  1.4701e-03,  4.9773e-03, -4.3873e-03,  3.4360e-03,\n",
       "           -2.3355e-03,  5.7474e-03,  2.1713e-03,  1.0075e-02,  1.3142e-06,\n",
       "            2.6384e-03,  7.8029e-04,  5.9917e-03,  2.4283e-03, -1.7904e-03,\n",
       "            7.8001e-05, -3.5575e-04,  1.7025e-06, -4.4673e-03, -7.4243e-03,\n",
       "            5.5880e-03, -7.4518e-03, -1.4840e-03, -5.2399e-04, -3.9077e-03,\n",
       "           -4.3222e-03,  2.0226e-03,  3.1825e-03, -1.8299e-06, -1.8073e-03,\n",
       "           -2.4723e-04,  1.8140e-03, -9.6029e-03, -8.0026e-03, -8.4601e-04,\n",
       "           -1.2995e-03,  2.6647e-03,  8.5420e-04,  1.7502e-05,  2.5070e-03,\n",
       "            7.6174e-03, -5.6983e-04,  1.1914e-02,  4.5082e-03, -3.4778e-03,\n",
       "           -4.4928e-03, -5.1219e-03,  4.0579e-03, -1.0918e-02, -2.6582e-03,\n",
       "            5.8052e-04, -1.0045e-03,  1.0523e-03, -2.5569e-03,  4.7490e-03,\n",
       "            5.5956e-03,  1.6692e-03, -1.3612e-03, -2.7291e-03,  4.2219e-04,\n",
       "           -1.4287e-03, -1.5126e-04, -4.1722e-03,  2.8882e-03,  4.4117e-08,\n",
       "            2.6831e-04,  3.0843e-03, -2.5540e-04,  8.2146e-04,  3.2063e-03,\n",
       "           -5.9606e-03,  2.2567e-03, -5.2067e-03, -5.6343e-04, -1.6957e-04,\n",
       "           -2.5090e-03,  2.2941e-04,  2.8865e-03,  5.9796e-04, -1.3078e-03,\n",
       "           -4.2917e-03, -9.4673e-03,  1.2610e-02, -6.7421e-03,  2.8561e-03,\n",
       "           -5.1261e-03, -5.1484e-03,  2.7783e-03,  1.2344e-02,  4.7353e-03,\n",
       "           -4.1068e-03, -4.7924e-07,  2.3104e-03,  5.4835e-03, -7.9485e-05,\n",
       "           -5.5731e-03,  2.1712e-08, -5.6731e-03,  2.8787e-03, -2.7267e-03,\n",
       "           -2.8005e-03, -1.8755e-03, -7.1546e-04, -8.1387e-04,  2.2022e-03,\n",
       "           -4.4088e-03,  3.4828e-06, -1.1680e-02, -2.0233e-04, -2.0054e-03,\n",
       "            3.1408e-03, -3.1424e-03,  8.0364e-07,  4.7915e-04, -4.7221e-03,\n",
       "           -5.5186e-03,  8.5015e-03,  2.7490e-03,  7.0009e-03,  1.2855e-03,\n",
       "            2.7159e-03, -4.4365e-03, -5.0622e-04,  3.1910e-03, -1.0778e-03,\n",
       "            3.6409e-03,  5.7138e-04,  9.1685e-08, -2.3688e-03, -2.1575e-03,\n",
       "            6.7030e-03, -2.8666e-03, -8.5647e-06, -6.5873e-04, -7.5568e-03,\n",
       "            4.6804e-03, -8.5859e-03, -4.3473e-03, -5.7976e-03,  3.6370e-03,\n",
       "            2.6278e-03,  1.7886e-03,  1.6443e-03,  6.6927e-05,  3.1278e-03,\n",
       "            4.0063e-03,  2.3570e-03, -1.4729e-03,  4.1696e-03,  1.1731e-03,\n",
       "            3.3456e-03, -1.2612e-03,  2.4466e-03, -1.4375e-03,  3.0320e-05,\n",
       "            2.4493e-03, -1.0235e-02, -2.7507e-06, -1.8242e-03, -4.6622e-03,\n",
       "           -1.2924e-03, -7.9229e-04,  5.5222e-05,  5.8944e-05, -7.9346e-05,\n",
       "            4.8654e-03, -1.0267e-03, -3.7903e-03, -1.3755e-03,  1.2327e-04,\n",
       "            2.9321e-03,  1.6874e-03, -2.0839e-03, -2.4919e-03,  4.8275e-03,\n",
       "            4.4566e-03, -2.9794e-03,  4.3847e-10,  7.1933e-03, -2.2732e-03,\n",
       "           -6.0486e-04, -8.0251e-04, -4.8366e-04,  4.2661e-03, -5.3578e-04,\n",
       "            7.6315e-03,  2.7127e-03, -1.8184e-06,  1.2862e-06, -5.2360e-03,\n",
       "            1.3644e-03, -7.2497e-03,  5.0179e-04,  7.6722e-03,  1.0575e-03,\n",
       "            5.3448e-11, -3.2064e-06,  1.5558e-03,  3.5518e-03,  4.6122e-04,\n",
       "           -8.6764e-04,  2.4954e-03,  4.5138e-03, -5.9607e-04, -4.6727e-04,\n",
       "            1.7551e-04,  2.0221e-03,  6.8667e-03, -4.3625e-03,  4.6043e-05,\n",
       "           -2.4089e-03,  2.3863e-03, -3.3021e-03,  1.4905e-03,  1.2903e-02,\n",
       "           -1.1058e-02,  9.1211e-09])},\n",
       "  2: {'momentum_buffer': tensor([[-1.9526e-04, -3.4204e-22,  5.1393e-04,  ..., -3.1705e-04,\n",
       "             3.8667e-03, -5.9361e-17],\n",
       "           [ 8.8571e-04, -1.6288e-16, -5.6289e-03,  ...,  5.4255e-03,\n",
       "            -1.4742e-03,  7.1266e-09],\n",
       "           [ 1.8426e-03, -1.0370e-15,  2.8814e-03,  ...,  7.1807e-03,\n",
       "             6.9910e-03, -5.6052e-45],\n",
       "           ...,\n",
       "           [ 2.4275e-03, -5.6052e-45, -4.0635e-03,  ..., -5.5201e-03,\n",
       "             9.3285e-04,  1.5027e-09],\n",
       "           [-8.3613e-04,  2.4036e-16, -3.6366e-03,  ...,  2.0673e-03,\n",
       "            -1.4650e-03, -1.5305e-11],\n",
       "           [-1.0403e-04, -4.6074e-17,  3.7129e-03,  ..., -3.3167e-03,\n",
       "            -1.8539e-03, -1.3114e-18]])},\n",
       "  3: {'momentum_buffer': tensor([ 9.6792e-04, -2.6170e-03,  1.6572e-02, -2.2051e-03,  5.7617e-03,\n",
       "           -9.2952e-04, -5.6596e-04, -3.5417e-03,  1.9965e-02,  6.1370e-03,\n",
       "            4.6173e-03,  4.2264e-03,  1.2144e-03, -5.3691e-03,  1.4011e-02,\n",
       "            7.0932e-04,  9.1872e-03,  2.6096e-02, -3.5015e-03,  5.7972e-03,\n",
       "           -1.4418e-02, -3.0752e-03, -1.2699e-03,  1.2466e-02, -1.0563e-02,\n",
       "            5.0296e-03, -3.9215e-03,  8.7365e-04, -1.0100e-03,  4.5470e-03,\n",
       "            3.2467e-03,  1.2449e-03, -4.3836e-03, -4.7150e-03,  7.0311e-03,\n",
       "           -1.7621e-02, -3.8664e-03, -2.4503e-03,  8.4060e-03, -3.7331e-04,\n",
       "            8.3163e-03,  7.8077e-04, -8.8717e-03,  4.5294e-03, -4.4228e-03,\n",
       "           -5.6169e-03, -6.7271e-03, -5.0383e-03,  4.9180e-03,  1.1956e-02,\n",
       "            5.2523e-03,  9.4537e-03,  4.5834e-04,  2.8939e-03,  4.4192e-06,\n",
       "            4.2103e-04, -3.5262e-03,  2.8566e-03,  3.4892e-03,  8.1271e-04,\n",
       "           -1.5441e-04, -1.9308e-03,  7.4949e-03,  7.1777e-04,  1.1544e-04,\n",
       "            3.0497e-03,  1.0960e-02, -1.0533e-02, -5.8808e-03, -6.7241e-03,\n",
       "           -1.7234e-04, -3.9873e-03, -1.4060e-03, -3.8093e-04,  7.0959e-04,\n",
       "            4.8505e-04, -7.4227e-03,  2.8657e-06, -4.2065e-03, -9.3905e-03,\n",
       "            1.7651e-04, -5.9135e-04, -1.1173e-04, -1.4853e-03,  3.5730e-03,\n",
       "            2.0219e-02, -2.0058e-02, -1.3159e-02,  7.0403e-03, -5.8796e-03,\n",
       "           -7.5963e-03,  3.9312e-03,  1.1341e-02, -1.4948e-03,  1.3693e-02,\n",
       "           -5.3385e-03,  1.5855e-02, -2.6581e-03,  2.9818e-03, -1.3333e-03,\n",
       "            3.8477e-03, -7.0832e-04, -1.9056e-02,  1.3988e-02, -1.7261e-02,\n",
       "           -9.8654e-03, -3.2704e-03,  3.9860e-03, -3.8072e-03,  1.8521e-03,\n",
       "           -9.3733e-03, -1.1497e-03,  9.0388e-03, -1.1450e-02, -3.4278e-03,\n",
       "           -3.7614e-03, -6.3260e-03, -1.3212e-02, -1.3830e-03,  1.6116e-03,\n",
       "           -3.8984e-03,  6.1098e-04,  5.9785e-03, -3.6044e-03,  7.4533e-03,\n",
       "            4.8936e-03,  2.0034e-02, -5.5967e-03, -2.5591e-03,  1.0612e-02,\n",
       "           -1.5022e-02,  6.4710e-05,  1.3991e-03, -2.1275e-04,  4.2805e-03,\n",
       "            7.1223e-03,  2.9049e-03, -3.2790e-03, -8.1620e-03,  1.2829e-02,\n",
       "            2.7052e-03, -6.5936e-03,  7.0943e-03, -3.3989e-03, -5.8545e-03,\n",
       "            3.2487e-03,  6.4130e-03, -4.2909e-03,  8.1623e-04,  5.8300e-03,\n",
       "           -9.2382e-04, -4.3364e-03,  1.8044e-03,  1.6725e-02, -3.4718e-03,\n",
       "           -6.0623e-03, -2.2733e-03,  1.3041e-03, -5.8487e-04,  2.7050e-04,\n",
       "            1.3337e-03,  1.4523e-02, -1.8929e-02, -6.8077e-05,  3.6906e-03,\n",
       "            2.5713e-03,  6.9446e-04,  2.9859e-03,  4.1440e-03,  7.1142e-04,\n",
       "           -9.7194e-04,  1.7383e-03, -2.3896e-03,  1.0694e-02,  3.2015e-03,\n",
       "           -8.5111e-03, -4.5845e-03,  7.7164e-03,  1.0354e-02, -3.9493e-04,\n",
       "            1.4684e-03, -9.6477e-03,  6.6618e-03,  1.6623e-03, -2.6916e-03,\n",
       "            7.8501e-03,  3.5110e-03,  8.3155e-04, -5.0976e-03,  5.1247e-03,\n",
       "            3.9256e-04,  9.8386e-03, -1.1609e-02, -5.6061e-03, -1.3559e-02,\n",
       "           -3.0359e-03,  2.0206e-02, -5.7215e-04,  5.3368e-03, -1.3046e-03,\n",
       "           -1.9121e-02, -1.0783e-02, -4.3073e-03,  1.2024e-02,  2.3596e-02,\n",
       "            5.9214e-03,  4.8009e-05, -1.2481e-02,  4.8615e-03, -4.8955e-04,\n",
       "           -3.0803e-03, -6.2455e-03, -5.1135e-03, -1.2073e-02,  1.5024e-03,\n",
       "            1.5113e-03, -7.1259e-03,  3.2299e-03, -5.2033e-03, -1.7952e-03,\n",
       "            2.2352e-03, -1.5770e-03, -5.9005e-03, -4.3165e-03,  3.3529e-03,\n",
       "           -5.3534e-03, -5.0910e-03,  1.0143e-04,  1.0208e-02,  6.2414e-03,\n",
       "            1.5224e-03, -3.3175e-03, -7.7315e-03,  9.7985e-03,  2.4267e-03,\n",
       "            3.4446e-04, -9.4224e-03,  6.7620e-03, -3.6413e-04, -1.7316e-03,\n",
       "            3.1879e-03,  9.1425e-03,  2.1636e-02,  8.9255e-03, -2.6528e-03,\n",
       "           -3.4579e-03, -4.7749e-03,  1.1124e-03,  1.2824e-02, -7.5520e-03,\n",
       "           -4.9759e-04,  1.3335e-02, -1.0653e-02,  7.6919e-04,  2.4245e-03,\n",
       "            2.4507e-03])},\n",
       "  4: {'momentum_buffer': tensor([[-0.0042, -0.0007, -0.0024,  ..., -0.0020,  0.0038, -0.0048],\n",
       "           [ 0.0017,  0.0051,  0.0022,  ...,  0.0025,  0.0035,  0.0027],\n",
       "           [-0.0033, -0.0030, -0.0025,  ...,  0.0007, -0.0063,  0.0030],\n",
       "           ...,\n",
       "           [-0.0012, -0.0010,  0.0031,  ...,  0.0026, -0.0046,  0.0028],\n",
       "           [-0.0002,  0.0017,  0.0007,  ..., -0.0013, -0.0004,  0.0012],\n",
       "           [-0.0024, -0.0018, -0.0034,  ..., -0.0003, -0.0004, -0.0005]])},\n",
       "  5: {'momentum_buffer': tensor([-9.7282e-03,  1.5319e-02, -2.4626e-04,  4.0729e-03,  6.6672e-03,\n",
       "           -1.1200e-02,  3.1014e-03, -7.1611e-03,  8.3961e-03, -4.3336e-03,\n",
       "           -3.7053e-03,  3.3738e-04, -5.8465e-03,  9.4855e-03,  1.0040e-02,\n",
       "           -9.1475e-04,  2.0778e-02, -3.0011e-03,  2.2577e-03,  4.1949e-03,\n",
       "           -2.1934e-03,  5.2607e-03, -1.7041e-02,  3.5905e-03,  1.2301e-02,\n",
       "            4.7816e-03, -6.6288e-03, -1.3393e-02,  2.9207e-03,  6.0541e-04,\n",
       "           -3.8593e-03, -9.8144e-04, -1.4166e-03,  6.2266e-03, -4.9221e-03,\n",
       "           -2.7201e-03, -8.2720e-03, -2.2989e-03, -1.3717e-04, -9.1253e-03,\n",
       "           -5.4903e-03, -9.8948e-04, -2.4185e-03, -9.2226e-03,  6.2565e-03,\n",
       "           -4.2044e-03,  5.5556e-03, -1.3854e-03, -2.6432e-04,  1.7521e-03,\n",
       "           -7.6110e-03, -1.0219e-03, -1.1154e-02,  9.2281e-04, -7.2054e-04,\n",
       "            3.6960e-03,  8.7402e-03,  1.3640e-03, -1.2478e-03, -9.2978e-04,\n",
       "            5.8037e-03, -1.0068e-02,  5.3157e-03,  1.0320e-03, -1.2233e-02,\n",
       "           -8.3169e-03,  7.6680e-03, -6.0655e-03,  4.2122e-03,  5.5965e-03,\n",
       "            5.0501e-03, -1.0577e-02, -2.7207e-03,  3.0964e-04,  4.4980e-04,\n",
       "           -2.4456e-03, -3.5161e-03, -1.3999e-03, -2.9617e-03,  1.2925e-02,\n",
       "            8.0180e-03, -2.9357e-04, -4.1794e-03, -1.2690e-02, -1.3057e-03,\n",
       "            4.4521e-03,  6.3671e-03, -4.2434e-03,  7.0711e-03, -4.0453e-04,\n",
       "           -7.1222e-04, -1.3123e-04, -1.1260e-03, -4.5464e-03, -1.4287e-02,\n",
       "           -6.2570e-03,  1.3727e-02,  2.6053e-03, -3.3890e-04, -1.3019e-02,\n",
       "            7.2800e-03,  7.7631e-03,  5.6938e-03,  7.1390e-04,  8.5089e-03,\n",
       "            1.1470e-03,  2.5203e-03,  4.1593e-03, -2.7487e-03,  9.5324e-05,\n",
       "            3.9504e-03,  1.3969e-02,  8.8619e-03, -1.8751e-03, -3.4493e-03,\n",
       "           -3.5599e-03, -8.6036e-03,  6.6997e-03, -1.7623e-03, -5.3887e-03,\n",
       "            1.2616e-03, -3.5535e-03, -1.3263e-02, -1.1707e-04, -5.6299e-03,\n",
       "            9.4949e-03, -7.4516e-04, -3.8052e-03])},\n",
       "  6: {'momentum_buffer': tensor([[-5.0129e-04, -3.0727e-03, -5.5768e-03,  ..., -6.0854e-03,\n",
       "             8.6318e-04,  5.0672e-03],\n",
       "           [ 1.6266e-03,  8.8380e-03,  2.1662e-03,  ..., -2.1950e-03,\n",
       "             3.3146e-03,  2.5268e-03],\n",
       "           [-1.7399e-02, -7.9396e-04, -7.8487e-03,  ..., -1.7447e-03,\n",
       "            -9.8213e-04, -1.4761e-02],\n",
       "           ...,\n",
       "           [ 6.6450e-03,  1.3600e-03,  6.6503e-03,  ..., -1.6769e-03,\n",
       "             3.9186e-03,  5.5604e-04],\n",
       "           [ 2.5510e-03,  1.3238e-02,  2.0665e-02,  ...,  6.6267e-03,\n",
       "             1.0773e-02,  3.5508e-03],\n",
       "           [-5.8125e-03,  5.5512e-05, -1.0988e-02,  ..., -3.3178e-03,\n",
       "            -8.0009e-03, -1.1213e-03]])},\n",
       "  7: {'momentum_buffer': tensor([ 0.0003,  0.0098, -0.0152,  0.0032,  0.0002, -0.0217, -0.0031, -0.0017,\n",
       "            0.0221,  0.0062])}},\n",
       " 'param_groups': [{'lr': 0.01,\n",
       "   'momentum': 0.9,\n",
       "   'dampening': 0,\n",
       "   'weight_decay': 0,\n",
       "   'nesterov': False,\n",
       "   'maximize': False,\n",
       "   'params': [0, 1, 2, 3, 4, 5, 6, 7]}]}"
      ]
     },
     "execution_count": 16,
     "metadata": {},
     "output_type": "execute_result"
    }
   ],
   "source": [
    "optimizer.state_dict()"
   ]
  },
  {
   "cell_type": "code",
   "execution_count": 17,
   "metadata": {},
   "outputs": [],
   "source": [
    "checkpoint = {\n",
    "    'model': net,\n",
    "    'state_dict': net.state_dict(),\n",
    "    'optimizer_dict': optimizer.state_dict(),\n",
    "}\n",
    "torch.save(checkpoint, 'checkpoint.pth')"
   ]
  },
  {
   "cell_type": "code",
   "execution_count": null,
   "metadata": {},
   "outputs": [],
   "source": []
  }
 ],
 "metadata": {
  "kernelspec": {
   "display_name": "Python 3",
   "language": "python",
   "name": "python3"
  },
  "language_info": {
   "codemirror_mode": {
    "name": "ipython",
    "version": 3
   },
   "file_extension": ".py",
   "mimetype": "text/x-python",
   "name": "python",
   "nbconvert_exporter": "python",
   "pygments_lexer": "ipython3",
   "version": "3.7.6"
  }
 },
 "nbformat": 4,
 "nbformat_minor": 4
}
